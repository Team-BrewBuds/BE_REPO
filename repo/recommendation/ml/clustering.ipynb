{
 "cells": [
  {
   "cell_type": "code",
   "execution_count": 43,
   "metadata": {},
   "outputs": [],
   "source": [
    "import pandas as pd"
   ]
  },
  {
   "cell_type": "code",
   "execution_count": 44,
   "metadata": {},
   "outputs": [],
   "source": [
    "df = pd.read_csv(\"coffee_beans_info_blend_updated_2.csv\")"
   ]
  },
  {
   "cell_type": "code",
   "execution_count": 45,
   "metadata": {},
   "outputs": [
    {
     "name": "stdout",
     "output_type": "stream",
     "text": [
      "<class 'pandas.core.frame.DataFrame'>\n",
      "RangeIndex: 149 entries, 0 to 148\n",
      "Data columns (total 14 columns):\n",
      " #   Column   Non-Null Count  Dtype \n",
      "---  ------   --------------  ----- \n",
      " 0   원두 유형    149 non-null    object\n",
      " 1   디카페인여부   149 non-null    int64 \n",
      " 2   원두 이름    149 non-null    object\n",
      " 3   원산지      149 non-null    object\n",
      " 4   품종       75 non-null     object\n",
      " 5   로스터리     74 non-null     object\n",
      " 6   생산 지역    75 non-null     object\n",
      " 7   가공방식     75 non-null     object\n",
      " 8   맛        149 non-null    object\n",
      " 9   산미       149 non-null    int64 \n",
      " 10  바디감      149 non-null    int64 \n",
      " 11  단맛       149 non-null    int64 \n",
      " 12  로스팅 포인트  149 non-null    int64 \n",
      " 13  쓴맛       149 non-null    int64 \n",
      "dtypes: int64(6), object(8)\n",
      "memory usage: 16.4+ KB\n"
     ]
    }
   ],
   "source": [
    "df.info()"
   ]
  },
  {
   "cell_type": "code",
   "execution_count": 46,
   "metadata": {},
   "outputs": [],
   "source": [
    "data = df[['원두 이름', '맛', '산미', '바디감', '단맛', '쓴맛']]"
   ]
  },
  {
   "cell_type": "code",
   "execution_count": 47,
   "metadata": {},
   "outputs": [
    {
     "name": "stderr",
     "output_type": "stream",
     "text": [
      "/tmp/ipykernel_88655/1368182302.py:1: SettingWithCopyWarning: \n",
      "A value is trying to be set on a copy of a slice from a DataFrame\n",
      "\n",
      "See the caveats in the documentation: https://pandas.pydata.org/pandas-docs/stable/user_guide/indexing.html#returning-a-view-versus-a-copy\n",
      "  data.dropna(inplace=True)\n"
     ]
    }
   ],
   "source": [
    "data.dropna(inplace=True)"
   ]
  },
  {
   "cell_type": "code",
   "execution_count": 48,
   "metadata": {},
   "outputs": [
    {
     "name": "stdout",
     "output_type": "stream",
     "text": [
      "<class 'pandas.core.frame.DataFrame'>\n",
      "RangeIndex: 149 entries, 0 to 148\n",
      "Data columns (total 6 columns):\n",
      " #   Column  Non-Null Count  Dtype \n",
      "---  ------  --------------  ----- \n",
      " 0   원두 이름   149 non-null    object\n",
      " 1   맛       149 non-null    object\n",
      " 2   산미      149 non-null    int64 \n",
      " 3   바디감     149 non-null    int64 \n",
      " 4   단맛      149 non-null    int64 \n",
      " 5   쓴맛      149 non-null    int64 \n",
      "dtypes: int64(4), object(2)\n",
      "memory usage: 7.1+ KB\n"
     ]
    }
   ],
   "source": [
    "data.info()"
   ]
  },
  {
   "cell_type": "markdown",
   "metadata": {},
   "source": []
  },
  {
   "cell_type": "code",
   "execution_count": 49,
   "metadata": {},
   "outputs": [
    {
     "data": {
      "text/html": [
       "<div>\n",
       "<style scoped>\n",
       "    .dataframe tbody tr th:only-of-type {\n",
       "        vertical-align: middle;\n",
       "    }\n",
       "\n",
       "    .dataframe tbody tr th {\n",
       "        vertical-align: top;\n",
       "    }\n",
       "\n",
       "    .dataframe thead th {\n",
       "        text-align: right;\n",
       "    }\n",
       "</style>\n",
       "<table border=\"1\" class=\"dataframe\">\n",
       "  <thead>\n",
       "    <tr style=\"text-align: right;\">\n",
       "      <th></th>\n",
       "      <th>원두 이름</th>\n",
       "      <th>맛</th>\n",
       "      <th>산미</th>\n",
       "      <th>바디감</th>\n",
       "      <th>단맛</th>\n",
       "      <th>쓴맛</th>\n",
       "    </tr>\n",
       "  </thead>\n",
       "  <tbody>\n",
       "    <tr>\n",
       "      <th>0</th>\n",
       "      <td>볼리비아 쿠시요 자바 코코 내추럴</td>\n",
       "      <td>산미 있는, 무거운, 베리, 초콜릿</td>\n",
       "      <td>3</td>\n",
       "      <td>4</td>\n",
       "      <td>4</td>\n",
       "      <td>1</td>\n",
       "    </tr>\n",
       "    <tr>\n",
       "      <th>1</th>\n",
       "      <td>콜롬비아 카사 네그라 카투라 디카페인</td>\n",
       "      <td>달콤한, 밸런스, 부드러운, 초콜릿, 시트러스</td>\n",
       "      <td>2</td>\n",
       "      <td>3</td>\n",
       "      <td>4</td>\n",
       "      <td>2</td>\n",
       "    </tr>\n",
       "    <tr>\n",
       "      <th>2</th>\n",
       "      <td>콜롬비아 엑셀소 디카페인</td>\n",
       "      <td>달콤한, 고소한, 초콜릿, 곡물, 시트러스</td>\n",
       "      <td>1</td>\n",
       "      <td>4</td>\n",
       "      <td>4</td>\n",
       "      <td>3</td>\n",
       "    </tr>\n",
       "    <tr>\n",
       "      <th>3</th>\n",
       "      <td>탄자니아 아카시아힐즈 켄트 워시드</td>\n",
       "      <td>달콤한, 고소한, 밸런스, 깔끔한, 바닐라, 견과류, 깔끔한한</td>\n",
       "      <td>3</td>\n",
       "      <td>4</td>\n",
       "      <td>4</td>\n",
       "      <td>2</td>\n",
       "    </tr>\n",
       "    <tr>\n",
       "      <th>4</th>\n",
       "      <td>에티오피아 구지 겔라냐 게샤 G1 무산소 워시드 스페셜 리저브</td>\n",
       "      <td>달콤한, 산미 있는, 시나몬, 가벼운</td>\n",
       "      <td>4</td>\n",
       "      <td>3</td>\n",
       "      <td>3</td>\n",
       "      <td>1</td>\n",
       "    </tr>\n",
       "    <tr>\n",
       "      <th>...</th>\n",
       "      <td>...</td>\n",
       "      <td>...</td>\n",
       "      <td>...</td>\n",
       "      <td>...</td>\n",
       "      <td>...</td>\n",
       "      <td>...</td>\n",
       "    </tr>\n",
       "    <tr>\n",
       "      <th>144</th>\n",
       "      <td>파나마 핀카 산타 테레사 게이샤 내추럴</td>\n",
       "      <td>달콤한, 산미 있는, 꽃, 허브, 화사한, 트로피칼</td>\n",
       "      <td>2</td>\n",
       "      <td>2</td>\n",
       "      <td>5</td>\n",
       "      <td>1</td>\n",
       "    </tr>\n",
       "    <tr>\n",
       "      <th>145</th>\n",
       "      <td>파나마 산타마리아 게이샤 내츄럴</td>\n",
       "      <td>달콤한, 꽃, 허브, 풍부한, 화사한, 주스, 트로피칼</td>\n",
       "      <td>4</td>\n",
       "      <td>2</td>\n",
       "      <td>4</td>\n",
       "      <td>1</td>\n",
       "    </tr>\n",
       "    <tr>\n",
       "      <th>146</th>\n",
       "      <td>파나마 핀카 하트만 게이샤 내츄럴</td>\n",
       "      <td>달콤한, 산미 있는, 부드러운, 초콜릿, 풍부한, 가벼운, 주스, 트로피칼</td>\n",
       "      <td>4</td>\n",
       "      <td>4</td>\n",
       "      <td>5</td>\n",
       "      <td>1</td>\n",
       "    </tr>\n",
       "    <tr>\n",
       "      <th>147</th>\n",
       "      <td>페루 이네스 파타 게이샤 워시드</td>\n",
       "      <td>산미 있는, 깔끔한, 꽃, 풍부한, 화사한, 시트러스</td>\n",
       "      <td>4</td>\n",
       "      <td>3</td>\n",
       "      <td>4</td>\n",
       "      <td>1</td>\n",
       "    </tr>\n",
       "    <tr>\n",
       "      <th>148</th>\n",
       "      <td>페루 카하마르카 하옌 디카페인</td>\n",
       "      <td>크리미한, 주스같은, 견과류</td>\n",
       "      <td>2</td>\n",
       "      <td>4</td>\n",
       "      <td>3</td>\n",
       "      <td>3</td>\n",
       "    </tr>\n",
       "  </tbody>\n",
       "</table>\n",
       "<p>149 rows × 6 columns</p>\n",
       "</div>"
      ],
      "text/plain": [
       "                                  원두 이름  \\\n",
       "0                    볼리비아 쿠시요 자바 코코 내추럴   \n",
       "1                  콜롬비아 카사 네그라 카투라 디카페인   \n",
       "2                         콜롬비아 엑셀소 디카페인   \n",
       "3                    탄자니아 아카시아힐즈 켄트 워시드   \n",
       "4    에티오피아 구지 겔라냐 게샤 G1 무산소 워시드 스페셜 리저브   \n",
       "..                                  ...   \n",
       "144               파나마 핀카 산타 테레사 게이샤 내추럴   \n",
       "145                   파나마 산타마리아 게이샤 내츄럴   \n",
       "146                  파나마 핀카 하트만 게이샤 내츄럴   \n",
       "147                   페루 이네스 파타 게이샤 워시드   \n",
       "148                    페루 카하마르카 하옌 디카페인   \n",
       "\n",
       "                                             맛  산미  바디감  단맛  쓴맛  \n",
       "0                          산미 있는, 무거운, 베리, 초콜릿   3    4   4   1  \n",
       "1                    달콤한, 밸런스, 부드러운, 초콜릿, 시트러스   2    3   4   2  \n",
       "2                      달콤한, 고소한, 초콜릿, 곡물, 시트러스   1    4   4   3  \n",
       "3           달콤한, 고소한, 밸런스, 깔끔한, 바닐라, 견과류, 깔끔한한   3    4   4   2  \n",
       "4                         달콤한, 산미 있는, 시나몬, 가벼운   4    3   3   1  \n",
       "..                                         ...  ..  ...  ..  ..  \n",
       "144               달콤한, 산미 있는, 꽃, 허브, 화사한, 트로피칼   2    2   5   1  \n",
       "145             달콤한, 꽃, 허브, 풍부한, 화사한, 주스, 트로피칼   4    2   4   1  \n",
       "146  달콤한, 산미 있는, 부드러운, 초콜릿, 풍부한, 가벼운, 주스, 트로피칼   4    4   5   1  \n",
       "147              산미 있는, 깔끔한, 꽃, 풍부한, 화사한, 시트러스   4    3   4   1  \n",
       "148                            크리미한, 주스같은, 견과류   2    4   3   3  \n",
       "\n",
       "[149 rows x 6 columns]"
      ]
     },
     "execution_count": 49,
     "metadata": {},
     "output_type": "execute_result"
    }
   ],
   "source": [
    "data"
   ]
  },
  {
   "cell_type": "code",
   "execution_count": 50,
   "metadata": {},
   "outputs": [
    {
     "name": "stderr",
     "output_type": "stream",
     "text": [
      "/tmp/ipykernel_88655/2743088182.py:21: SettingWithCopyWarning: \n",
      "A value is trying to be set on a copy of a slice from a DataFrame.\n",
      "Try using .loc[row_indexer,col_indexer] = value instead\n",
      "\n",
      "See the caveats in the documentation: https://pandas.pydata.org/pandas-docs/stable/user_guide/indexing.html#returning-a-view-versus-a-copy\n",
      "  data['맛'] = data['맛'].apply(\n"
     ]
    }
   ],
   "source": [
    "from sklearn.preprocessing import MultiLabelBinarizer\n",
    "\n",
    "# # 데이터 예시\n",
    "# data = pd.DataFrame({\n",
    "#     '원두명': ['Kenya Embu AB Washed', '에티오피아 코케허니 G1 내추럴', '케냐 키리나가 AA TOP', '에티오피아 예가체프 G1 코케 워시드P'],\n",
    "#     '맛&향': ['상큼,산미,밸런스,허브,깔끔한,화사한', '달콤,산미,베리,꽃,초콜릿', '산미,묵직,긴여운,시트러스', '달콤,상큼,산미,꽃,허브,시트러스,트로피칼'],\n",
    "#     '산미': [4.0, 4.0, 3.0, 3.0],\n",
    "#     '바디감': [2.0, 3.0, 3.0, 2.0],\n",
    "#     '단맛': [3.0, 3.0, 3.0, 4.0],\n",
    "#     '로스팅': [1.0, 3.0, 3.0, 2.0],\n",
    "#     '쓴맛': [1.0, 1.0, 2.0, 2.0]\n",
    "# })\n",
    "\n",
    "# '산미'를 '신'으로 바꾸고 공백을 제거하는 함수\n",
    "def process_taste(feature):\n",
    "    feature = feature.strip()  # 공백 제거\n",
    "    return feature  # '산미'를 '신'으로 변환\n",
    "\n",
    "# '맛&향' 컬럼에서 ','로 나뉘는 항목들에 대해 처리한 후 리스트로 변환\n",
    "data['맛'] = data['맛'].apply(\n",
    "    lambda x: [process_taste(taste) for taste in x.split(', ')]\n",
    ")\n",
    "\n",
    "\n",
    "# # MultiLabelBinarizer로 '맛&향' 인코딩\n",
    "mlb = MultiLabelBinarizer()\n",
    "taste_encoded = pd.DataFrame(mlb.fit_transform(data['맛']), columns=mlb.classes_, index=data.index)\n",
    "\n",
    "# # 원두명과 맛&향 및 기타 점수들을 결합\n",
    "data_final = pd.concat([data.drop(columns=['맛']), taste_encoded], axis=1)"
   ]
  },
  {
   "cell_type": "code",
   "execution_count": 9,
   "metadata": {},
   "outputs": [
    {
     "name": "stdout",
     "output_type": "stream",
     "text": [
      "<class 'pandas.core.frame.DataFrame'>\n",
      "RangeIndex: 149 entries, 0 to 148\n",
      "Data columns (total 41 columns):\n",
      " #   Column                   Non-Null Count  Dtype \n",
      "---  ------                   --------------  ----- \n",
      " 0   원두 이름                    149 non-null    object\n",
      " 1   산미                       149 non-null    int64 \n",
      " 2   바디감                      149 non-null    int64 \n",
      " 3   단맛                       149 non-null    int64 \n",
      " 4   쓴맛                       149 non-null    int64 \n",
      " 5   가벼운                      149 non-null    int64 \n",
      " 6   갈색설탕                     149 non-null    int64 \n",
      " 7   견과류                      149 non-null    int64 \n",
      " 8   고소한                      149 non-null    int64 \n",
      " 9   곡물                       149 non-null    int64 \n",
      " 10  구운 견과류                   149 non-null    int64 \n",
      " 11  깔끔한                      149 non-null    int64 \n",
      " 12  깔끔한한                     149 non-null    int64 \n",
      " 13  꽃                        149 non-null    int64 \n",
      " 14  다크초콜릿                    149 non-null    int64 \n",
      " 15  달콤한                      149 non-null    int64 \n",
      " 16  달콤한한,고소한한,베리,견과류,시나몬,곡물  149 non-null    int64 \n",
      " 17  무거운                      149 non-null    int64 \n",
      " 18  바닐라                      149 non-null    int64 \n",
      " 19  밸런스                      149 non-null    int64 \n",
      " 20  베리                       149 non-null    int64 \n",
      " 21  부드러운                     149 non-null    int64 \n",
      " 22  산미 있는                    149 non-null    int64 \n",
      " 23  스모키한                     149 non-null    int64 \n",
      " 24  시나몬                      149 non-null    int64 \n",
      " 25  시트러스                     149 non-null    int64 \n",
      " 26  쌉쌀한                      149 non-null    int64 \n",
      " 27  여운 있는                    149 non-null    int64 \n",
      " 28  와이니                      149 non-null    int64 \n",
      " 29  좋은 바디감                   149 non-null    int64 \n",
      " 30  주스                       149 non-null    int64 \n",
      " 31  주스같은                     149 non-null    int64 \n",
      " 32  차                        149 non-null    int64 \n",
      " 33  초콜릿                      149 non-null    int64 \n",
      " 34  카라멜                      149 non-null    int64 \n",
      " 35  크리미한                     149 non-null    int64 \n",
      " 36  트로피칼                     149 non-null    int64 \n",
      " 37  풍부한                      149 non-null    int64 \n",
      " 38  향신료                      149 non-null    int64 \n",
      " 39  허브                       149 non-null    int64 \n",
      " 40  화사한                      149 non-null    int64 \n",
      "dtypes: int64(40), object(1)\n",
      "memory usage: 47.9+ KB\n"
     ]
    }
   ],
   "source": [
    "data_final.info()"
   ]
  },
  {
   "cell_type": "code",
   "execution_count": 51,
   "metadata": {},
   "outputs": [],
   "source": [
    "import pandas as pd\n",
    "from k_means_constrained import KMeansConstrained\n",
    "\n",
    "# KMeansConstrained로 클러스터링 수행\n",
    "n_clusters = 7\n",
    "min_cluster_size = 15\n",
    "\n",
    "kmeans_constrained = KMeansConstrained(\n",
    "    n_clusters=n_clusters,\n",
    "    size_min=min_cluster_size,\n",
    "    random_state=42\n",
    ")\n",
    "\n",
    "# '원두명' 컬럼을 제외하고 클러스터링 적용\n",
    "data_final['클러스터'] = kmeans_constrained.fit_predict(data_final.drop(columns=['원두 이름']))"
   ]
  },
  {
   "cell_type": "code",
   "execution_count": 52,
   "metadata": {},
   "outputs": [
    {
     "name": "stdout",
     "output_type": "stream",
     "text": [
      "<class 'pandas.core.frame.DataFrame'>\n",
      "RangeIndex: 149 entries, 0 to 148\n",
      "Data columns (total 42 columns):\n",
      " #   Column                   Non-Null Count  Dtype \n",
      "---  ------                   --------------  ----- \n",
      " 0   원두 이름                    149 non-null    object\n",
      " 1   산미                       149 non-null    int64 \n",
      " 2   바디감                      149 non-null    int64 \n",
      " 3   단맛                       149 non-null    int64 \n",
      " 4   쓴맛                       149 non-null    int64 \n",
      " 5   가벼운                      149 non-null    int64 \n",
      " 6   갈색설탕                     149 non-null    int64 \n",
      " 7   견과류                      149 non-null    int64 \n",
      " 8   고소한                      149 non-null    int64 \n",
      " 9   곡물                       149 non-null    int64 \n",
      " 10  구운 견과류                   149 non-null    int64 \n",
      " 11  깔끔한                      149 non-null    int64 \n",
      " 12  깔끔한한                     149 non-null    int64 \n",
      " 13  꽃                        149 non-null    int64 \n",
      " 14  다크초콜릿                    149 non-null    int64 \n",
      " 15  달콤한                      149 non-null    int64 \n",
      " 16  달콤한한,고소한한,베리,견과류,시나몬,곡물  149 non-null    int64 \n",
      " 17  무거운                      149 non-null    int64 \n",
      " 18  바닐라                      149 non-null    int64 \n",
      " 19  밸런스                      149 non-null    int64 \n",
      " 20  베리                       149 non-null    int64 \n",
      " 21  부드러운                     149 non-null    int64 \n",
      " 22  산미 있는                    149 non-null    int64 \n",
      " 23  스모키한                     149 non-null    int64 \n",
      " 24  시나몬                      149 non-null    int64 \n",
      " 25  시트러스                     149 non-null    int64 \n",
      " 26  쌉쌀한                      149 non-null    int64 \n",
      " 27  여운 있는                    149 non-null    int64 \n",
      " 28  와이니                      149 non-null    int64 \n",
      " 29  좋은 바디감                   149 non-null    int64 \n",
      " 30  주스                       149 non-null    int64 \n",
      " 31  주스같은                     149 non-null    int64 \n",
      " 32  차                        149 non-null    int64 \n",
      " 33  초콜릿                      149 non-null    int64 \n",
      " 34  카라멜                      149 non-null    int64 \n",
      " 35  크리미한                     149 non-null    int64 \n",
      " 36  트로피칼                     149 non-null    int64 \n",
      " 37  풍부한                      149 non-null    int64 \n",
      " 38  향신료                      149 non-null    int64 \n",
      " 39  허브                       149 non-null    int64 \n",
      " 40  화사한                      149 non-null    int64 \n",
      " 41  클러스터                     149 non-null    int32 \n",
      "dtypes: int32(1), int64(40), object(1)\n",
      "memory usage: 48.4+ KB\n"
     ]
    }
   ],
   "source": [
    "data_final.info()"
   ]
  },
  {
   "cell_type": "code",
   "execution_count": 12,
   "metadata": {},
   "outputs": [],
   "source": [
    "# data_final.to_csv('recsys_data.csv', encoding='utf-8-sig')"
   ]
  },
  {
   "cell_type": "markdown",
   "metadata": {},
   "source": [
    "### 시각화\n"
   ]
  },
  {
   "cell_type": "code",
   "execution_count": 13,
   "metadata": {},
   "outputs": [
    {
     "data": {
      "image/png": "[encoded data removed]",
      "text/plain": [
       "<Figure size 1000x800 with 1 Axes>"
      ]
     },
     "metadata": {},
     "output_type": "display_data"
    }
   ],
   "source": [
    "\n",
    "\n",
    "# # NanumGothic 폰트 적용 (한글 표시를 위해)\n",
    "# plt.rc('font', family='NanumGothic')\n",
    "# plt.rcParams['axes.unicode_minus'] = False \n",
    "# # 예시 데이터 생성 (data_final로 가정)\n",
    "# # data_final = pd.DataFrame(np.random.rand(100, 5), columns=['Feature1', 'Feature2', 'Feature3', 'Feature4', 'Feature5'])\n",
    "\n",
    "\n",
    "# # PCA로 2차원으로 차원 축소\n",
    "# pca = PCA(n_components=2)\n",
    "# pca_components = pca.fit_transform(data_final.drop(columns=['원두 이름', '클러스터']))\n",
    "\n",
    "\n",
    "# # 결과를 DataFrame에 추가\n",
    "# data_final['PCA1'] = pca_components[:, 0]\n",
    "# data_final['PCA2'] = pca_components[:, 1]\n",
    "\n",
    "# # 클러스터별 색상 지정\n",
    "# colors = ['red', 'blue', 'green', 'purple', 'orange', 'brown', 'pink', 'gray']  # 클러스터 색상 미리 지정\n",
    "# cluster_colors = data_final['클러스터'].map(lambda x: colors[x])  # 클러스터 값을 색상에 매핑\n",
    "\n",
    "# # 2D 시각화\n",
    "# plt.figure(figsize=(10, 8))\n",
    "# plt.scatter(data_final['PCA1'], data_final['PCA2'], c=cluster_colors, s=50)\n",
    "\n",
    "# # 축 및 제목 설정\n",
    "# plt.xlabel('특성1')\n",
    "# plt.ylabel('특성2')\n",
    "# plt.title('군집화 결과 (PCA 2차원 차원 축소)')\n",
    "# plt.grid(True)\n",
    "# plt.show()"
   ]
  },
  {
   "cell_type": "code",
   "execution_count": 53,
   "metadata": {},
   "outputs": [
    {
     "data": {
      "text/plain": [
       "KMeansConstrained(copy_x=True, init='k-means++', max_iter=300, n_clusters=7,\n",
       "         n_init=10, n_jobs=1, random_state=42, size_max=None, size_min=15,\n",
       "         tol=0.0001, verbose=False)"
      ]
     },
     "execution_count": 53,
     "metadata": {},
     "output_type": "execute_result"
    }
   ],
   "source": [
    "kmeans_constrained"
   ]
  },
  {
   "cell_type": "code",
   "execution_count": 14,
   "metadata": {},
   "outputs": [
    {
     "data": {
      "text/plain": [
       "['mlb_encoder.pkl']"
      ]
     },
     "execution_count": 14,
     "metadata": {},
     "output_type": "execute_result"
    }
   ],
   "source": [
    "import joblib\n",
    "\n",
    "# 모델을 파일로 저장\n",
    "joblib.dump(kmeans_constrained, 'kmeans_model.pkl')\n",
    "joblib.dump(mlb, 'mlb_encoder.pkl')"
   ]
  },
  {
   "cell_type": "code",
   "execution_count": 15,
   "metadata": {},
   "outputs": [],
   "source": [
    "recsys_model = joblib.load('kmeans_model.pkl')\n",
    "mlb_encoder = joblib.load('mlb_encoder.pkl')\n",
    "\n"
   ]
  },
  {
   "cell_type": "code",
   "execution_count": 54,
   "metadata": {},
   "outputs": [],
   "source": [
    "user_input = pd.DataFrame([['some coffee bean', '고소한, 산미 있는, 화사한', 1, 2.5, 3, 1]], \n",
    "                          columns=['원두 이름', '맛', '산미', '바디감', '단맛', '쓴맛'])\n"
   ]
  },
  {
   "cell_type": "code",
   "execution_count": 55,
   "metadata": {},
   "outputs": [
    {
     "name": "stdout",
     "output_type": "stream",
     "text": [
      "'맛&향' 처리 시간: 0.0009555816650390625초\n",
      "MultiLabelBinarizer 인코딩 시간: 0.0006642341613769531초\n",
      "DataFrame 결합 시간: 0.001588582992553711초\n",
      "   산미  바디감  단맛  쓴맛  가벼운  갈색설탕  견과류  고소한  곡물  구운 견과류  ...  주스같은  차  초콜릿  카라멜  \\\n",
      "0   1  2.5   3   1    0     0    0    1   0       0  ...     0  0    0    0   \n",
      "\n",
      "   크리미한  트로피칼  풍부한  향신료  허브  화사한  \n",
      "0     0     0    0    0   0    1  \n",
      "\n",
      "[1 rows x 40 columns]\n"
     ]
    }
   ],
   "source": [
    "import time\n",
    "\n",
    "# 1. 사용자 입력 처리 시간 측정\n",
    "start_time = time.time()\n",
    "user_input['맛'] = user_input['맛'].apply(lambda x: [process_taste(taste) for taste in x.split(', ')])\n",
    "print(f\"'맛&향' 처리 시간: {time.time() - start_time}초\")\n",
    "\n",
    "# 2. MultiLabelBinarizer 인코딩 시간 측정\n",
    "start_time = time.time()\n",
    "user_taste_encoded = pd.DataFrame(mlb.transform(user_input['맛']), columns=mlb.classes_, index=user_input.index)\n",
    "print(f\"MultiLabelBinarizer 인코딩 시간: {time.time() - start_time}초\")\n",
    "\n",
    "# 3. DataFrame 결합 시간 측정\n",
    "start_time = time.time()\n",
    "user_input_final = pd.concat([user_input.drop(columns=['맛', '원두 이름']), user_taste_encoded], axis=1)\n",
    "print(f\"DataFrame 결합 시간: {time.time() - start_time}초\")\n",
    "\n",
    "# 최종 결과 확인\n",
    "print(user_input_final)"
   ]
  },
  {
   "cell_type": "code",
   "execution_count": 56,
   "metadata": {},
   "outputs": [
    {
     "name": "stdout",
     "output_type": "stream",
     "text": [
      "<class 'pandas.core.frame.DataFrame'>\n",
      "RangeIndex: 1 entries, 0 to 0\n",
      "Data columns (total 40 columns):\n",
      " #   Column                   Non-Null Count  Dtype  \n",
      "---  ------                   --------------  -----  \n",
      " 0   산미                       1 non-null      int64  \n",
      " 1   바디감                      1 non-null      float64\n",
      " 2   단맛                       1 non-null      int64  \n",
      " 3   쓴맛                       1 non-null      int64  \n",
      " 4   가벼운                      1 non-null      int64  \n",
      " 5   갈색설탕                     1 non-null      int64  \n",
      " 6   견과류                      1 non-null      int64  \n",
      " 7   고소한                      1 non-null      int64  \n",
      " 8   곡물                       1 non-null      int64  \n",
      " 9   구운 견과류                   1 non-null      int64  \n",
      " 10  깔끔한                      1 non-null      int64  \n",
      " 11  깔끔한한                     1 non-null      int64  \n",
      " 12  꽃                        1 non-null      int64  \n",
      " 13  다크초콜릿                    1 non-null      int64  \n",
      " 14  달콤한                      1 non-null      int64  \n",
      " 15  달콤한한,고소한한,베리,견과류,시나몬,곡물  1 non-null      int64  \n",
      " 16  무거운                      1 non-null      int64  \n",
      " 17  바닐라                      1 non-null      int64  \n",
      " 18  밸런스                      1 non-null      int64  \n",
      " 19  베리                       1 non-null      int64  \n",
      " 20  부드러운                     1 non-null      int64  \n",
      " 21  산미 있는                    1 non-null      int64  \n",
      " 22  스모키한                     1 non-null      int64  \n",
      " 23  시나몬                      1 non-null      int64  \n",
      " 24  시트러스                     1 non-null      int64  \n",
      " 25  쌉쌀한                      1 non-null      int64  \n",
      " 26  여운 있는                    1 non-null      int64  \n",
      " 27  와이니                      1 non-null      int64  \n",
      " 28  좋은 바디감                   1 non-null      int64  \n",
      " 29  주스                       1 non-null      int64  \n",
      " 30  주스같은                     1 non-null      int64  \n",
      " 31  차                        1 non-null      int64  \n",
      " 32  초콜릿                      1 non-null      int64  \n",
      " 33  카라멜                      1 non-null      int64  \n",
      " 34  크리미한                     1 non-null      int64  \n",
      " 35  트로피칼                     1 non-null      int64  \n",
      " 36  풍부한                      1 non-null      int64  \n",
      " 37  향신료                      1 non-null      int64  \n",
      " 38  허브                       1 non-null      int64  \n",
      " 39  화사한                      1 non-null      int64  \n",
      "dtypes: float64(1), int64(39)\n",
      "memory usage: 452.0 bytes\n"
     ]
    }
   ],
   "source": [
    "user_input_final.info()"
   ]
  },
  {
   "cell_type": "code",
   "execution_count": 57,
   "metadata": {},
   "outputs": [],
   "source": [
    "recsys_data = pd.read_csv(\"recsys_data.csv\", index_col=0)"
   ]
  },
  {
   "cell_type": "code",
   "execution_count": 58,
   "metadata": {},
   "outputs": [
    {
     "name": "stdout",
     "output_type": "stream",
     "text": [
      "<class 'pandas.core.frame.DataFrame'>\n",
      "Index: 149 entries, 0 to 148\n",
      "Data columns (total 42 columns):\n",
      " #   Column                   Non-Null Count  Dtype \n",
      "---  ------                   --------------  ----- \n",
      " 0   원두 이름                    149 non-null    object\n",
      " 1   산미                       149 non-null    int64 \n",
      " 2   바디감                      149 non-null    int64 \n",
      " 3   단맛                       149 non-null    int64 \n",
      " 4   쓴맛                       149 non-null    int64 \n",
      " 5   가벼운                      149 non-null    int64 \n",
      " 6   갈색설탕                     149 non-null    int64 \n",
      " 7   견과류                      149 non-null    int64 \n",
      " 8   고소한                      149 non-null    int64 \n",
      " 9   곡물                       149 non-null    int64 \n",
      " 10  구운 견과류                   149 non-null    int64 \n",
      " 11  깔끔한                      149 non-null    int64 \n",
      " 12  깔끔한한                     149 non-null    int64 \n",
      " 13  꽃                        149 non-null    int64 \n",
      " 14  다크초콜릿                    149 non-null    int64 \n",
      " 15  달콤한                      149 non-null    int64 \n",
      " 16  달콤한한,고소한한,베리,견과류,시나몬,곡물  149 non-null    int64 \n",
      " 17  무거운                      149 non-null    int64 \n",
      " 18  바닐라                      149 non-null    int64 \n",
      " 19  밸런스                      149 non-null    int64 \n",
      " 20  베리                       149 non-null    int64 \n",
      " 21  부드러운                     149 non-null    int64 \n",
      " 22  산미 있는                    149 non-null    int64 \n",
      " 23  스모키한                     149 non-null    int64 \n",
      " 24  시나몬                      149 non-null    int64 \n",
      " 25  시트러스                     149 non-null    int64 \n",
      " 26  쌉쌀한                      149 non-null    int64 \n",
      " 27  여운 있는                    149 non-null    int64 \n",
      " 28  와이니                      149 non-null    int64 \n",
      " 29  좋은 바디감                   149 non-null    int64 \n",
      " 30  주스                       149 non-null    int64 \n",
      " 31  주스같은                     149 non-null    int64 \n",
      " 32  차                        149 non-null    int64 \n",
      " 33  초콜릿                      149 non-null    int64 \n",
      " 34  카라멜                      149 non-null    int64 \n",
      " 35  크리미한                     149 non-null    int64 \n",
      " 36  트로피칼                     149 non-null    int64 \n",
      " 37  풍부한                      149 non-null    int64 \n",
      " 38  향신료                      149 non-null    int64 \n",
      " 39  허브                       149 non-null    int64 \n",
      " 40  화사한                      149 non-null    int64 \n",
      " 41  클러스터                     149 non-null    int64 \n",
      "dtypes: int64(41), object(1)\n",
      "memory usage: 50.1+ KB\n"
     ]
    }
   ],
   "source": [
    "recsys_data.info()"
   ]
  },
  {
   "cell_type": "code",
   "execution_count": 59,
   "metadata": {},
   "outputs": [
    {
     "name": "stdout",
     "output_type": "stream",
     "text": [
      "입력된 원두는 클러스터 1에 속합니다.\n"
     ]
    }
   ],
   "source": [
    "predicted_cluster = recsys_model.predict(user_input_final, size_min=None, size_max=None)\n",
    "print(f'입력된 원두는 클러스터 {predicted_cluster[0]}에 속합니다.')"
   ]
  },
  {
   "cell_type": "code",
   "execution_count": 60,
   "metadata": {},
   "outputs": [
    {
     "name": "stdout",
     "output_type": "stream",
     "text": [
      "<class 'pandas.core.frame.DataFrame'>\n",
      "RangeIndex: 149 entries, 0 to 148\n",
      "Data columns (total 42 columns):\n",
      " #   Column                   Non-Null Count  Dtype \n",
      "---  ------                   --------------  ----- \n",
      " 0   원두 이름                    149 non-null    object\n",
      " 1   산미                       149 non-null    int64 \n",
      " 2   바디감                      149 non-null    int64 \n",
      " 3   단맛                       149 non-null    int64 \n",
      " 4   쓴맛                       149 non-null    int64 \n",
      " 5   가벼운                      149 non-null    int64 \n",
      " 6   갈색설탕                     149 non-null    int64 \n",
      " 7   견과류                      149 non-null    int64 \n",
      " 8   고소한                      149 non-null    int64 \n",
      " 9   곡물                       149 non-null    int64 \n",
      " 10  구운 견과류                   149 non-null    int64 \n",
      " 11  깔끔한                      149 non-null    int64 \n",
      " 12  깔끔한한                     149 non-null    int64 \n",
      " 13  꽃                        149 non-null    int64 \n",
      " 14  다크초콜릿                    149 non-null    int64 \n",
      " 15  달콤한                      149 non-null    int64 \n",
      " 16  달콤한한,고소한한,베리,견과류,시나몬,곡물  149 non-null    int64 \n",
      " 17  무거운                      149 non-null    int64 \n",
      " 18  바닐라                      149 non-null    int64 \n",
      " 19  밸런스                      149 non-null    int64 \n",
      " 20  베리                       149 non-null    int64 \n",
      " 21  부드러운                     149 non-null    int64 \n",
      " 22  산미 있는                    149 non-null    int64 \n",
      " 23  스모키한                     149 non-null    int64 \n",
      " 24  시나몬                      149 non-null    int64 \n",
      " 25  시트러스                     149 non-null    int64 \n",
      " 26  쌉쌀한                      149 non-null    int64 \n",
      " 27  여운 있는                    149 non-null    int64 \n",
      " 28  와이니                      149 non-null    int64 \n",
      " 29  좋은 바디감                   149 non-null    int64 \n",
      " 30  주스                       149 non-null    int64 \n",
      " 31  주스같은                     149 non-null    int64 \n",
      " 32  차                        149 non-null    int64 \n",
      " 33  초콜릿                      149 non-null    int64 \n",
      " 34  카라멜                      149 non-null    int64 \n",
      " 35  크리미한                     149 non-null    int64 \n",
      " 36  트로피칼                     149 non-null    int64 \n",
      " 37  풍부한                      149 non-null    int64 \n",
      " 38  향신료                      149 non-null    int64 \n",
      " 39  허브                       149 non-null    int64 \n",
      " 40  화사한                      149 non-null    int64 \n",
      " 41  클러스터                     149 non-null    int32 \n",
      "dtypes: int32(1), int64(40), object(1)\n",
      "memory usage: 48.4+ KB\n"
     ]
    }
   ],
   "source": [
    "data_final.info()"
   ]
  },
  {
   "cell_type": "code",
   "execution_count": 61,
   "metadata": {},
   "outputs": [
    {
     "name": "stdout",
     "output_type": "stream",
     "text": [
      "                       원두 이름\n",
      "103              가배장이 춘천 블렌드\n",
      "67          3-3커피 미디엄로스트 블렌드\n",
      "133    3-3커피 디카페인 콜롬비아 안티오키아\n",
      "41   카메룬 블루마운틴 보요 음베싸 세미 워시드\n",
      "82            커피맛을조금아는남자 수성못\n",
      "78                블랙빈스 멜로브라운\n",
      "104              커피광장 가을 블렌드\n",
      "34       에티오피아 짐마 디카페인 마운틴워터\n",
      "42               인디아 아라쿠 내추럴\n",
      "105               커피광장 봄 블렌드\n"
     ]
    }
   ],
   "source": [
    "from sklearn.metrics.pairwise import cosine_similarity\n",
    "\n",
    "# 같은 군집에 속한 원두들 선택\n",
    "same_cluster_beans = data_final[data_final['클러스터'] == predicted_cluster[0]]\n",
    "\n",
    "# 유저 입력 원두와 각 원두 간의 코사인 유사도 계산\n",
    "similarities = cosine_similarity(user_input_final, same_cluster_beans.drop(columns=['원두 이름', '클러스터']))\n",
    "\n",
    "# 유사도가 높은 상위 10개의 원두 인덱스 찾기 (유사도는 내림차순이므로 -argsort 사용)\n",
    "top_10_indices = similarities.argsort()[0][-10:][::-1]\n",
    "\n",
    "# 상위 10개의 원두 정보 출력\n",
    "top_10_beans = same_cluster_beans.iloc[top_10_indices]\n",
    "print(top_10_beans[['원두 이름']])"
   ]
  },
  {
   "cell_type": "code",
   "execution_count": null,
   "metadata": {},
   "outputs": [],
   "source": []
  },
  {
   "cell_type": "code",
   "execution_count": 62,
   "metadata": {},
   "outputs": [
    {
     "data": {
      "text/plain": [
       "pandas.core.frame.DataFrame"
      ]
     },
     "execution_count": 62,
     "metadata": {},
     "output_type": "execute_result"
    }
   ],
   "source": [
    "type(top_10_beans)"
   ]
  },
  {
   "cell_type": "code",
   "execution_count": null,
   "metadata": {},
   "outputs": [],
   "source": []
  }
 ],
 "metadata": {
  "kernelspec": {
   "display_name": "brewbuds-hMl1aSX8-py3.12",
   "language": "python",
   "name": "python3"
  },
  "language_info": {
   "codemirror_mode": {
    "name": "ipython",
    "version": 3
   },
   "file_extension": ".py",
   "mimetype": "text/x-python",
   "name": "python",
   "nbconvert_exporter": "python",
   "pygments_lexer": "ipython3",
   "version": "3.12.6"
  }
 },
 "nbformat": 4,
 "nbformat_minor": 2
}
